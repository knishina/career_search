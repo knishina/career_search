{
 "cells": [
  {
   "cell_type": "code",
   "execution_count": 84,
   "metadata": {
    "collapsed": true
   },
   "outputs": [],
   "source": [
    "# Dependencies\n",
    "from bs4 import BeautifulSoup\n",
    "from splinter import Browser\n",
    "import pandas as pd\n",
    "import requests"
   ]
  },
  {
   "cell_type": "code",
   "execution_count": 85,
   "metadata": {},
   "outputs": [
    {
     "data": {
      "text/plain": [
       "(95050, 'Data Scientist')"
      ]
     },
     "execution_count": 85,
     "metadata": {},
     "output_type": "execute_result"
    }
   ],
   "source": [
    "meta_input = \"../data/input_meta.csv\"\n",
    "df=pd.read_csv(meta_input,low_memory=False)\n",
    "search_zip_code = df[\"zip\"][0]\n",
    "search_job_title = df[\"job_title\"][0]\n",
    "\n",
    "search_zip_code, search_job_title"
   ]
  },
  {
   "cell_type": "code",
   "execution_count": 86,
   "metadata": {
    "collapsed": true
   },
   "outputs": [],
   "source": [
    "indeed_url=f\"https://www.indeed.com/jobs?as_and={search_job_title}&as_phr=&as_any=&as_not=&as_ttl=&as_cmp=&jt=all&st=&salary=&radius=50&l={search_zip_code}&fromage=3&limit=50&sort=&psf=advsrch\""
   ]
  },
  {
   "cell_type": "code",
   "execution_count": 87,
   "metadata": {
    "collapsed": true
   },
   "outputs": [],
   "source": [
    "executable_path = {\"executable_path\": \"chromedriver\"}\n",
    "browser1 = Browser(\"chrome\", **executable_path, headless=False)"
   ]
  },
  {
   "cell_type": "code",
   "execution_count": 88,
   "metadata": {
    "collapsed": true
   },
   "outputs": [],
   "source": [
    "# URL of page to be scraped\n",
    "indeed_search_results = indeed_url \n",
    "browser1.visit(indeed_search_results)"
   ]
  },
  {
   "cell_type": "code",
   "execution_count": 89,
   "metadata": {
    "collapsed": true
   },
   "outputs": [],
   "source": [
    "try:\n",
    "    browser1.click_link_by_id(id=\"prime-popover-close-button\")\n",
    "except:\n",
    "    print(\"no popup\")"
   ]
  },
  {
   "cell_type": "code",
   "execution_count": 90,
   "metadata": {
    "collapsed": true
   },
   "outputs": [],
   "source": [
    "#get the source code of the browser\n",
    "html1 = browser1.html"
   ]
  },
  {
   "cell_type": "code",
   "execution_count": 91,
   "metadata": {
    "collapsed": true
   },
   "outputs": [],
   "source": [
    "# Create BeautifulSoup object; parse with 'html.parser'\n",
    "soup = BeautifulSoup(html1, 'html.parser')"
   ]
  },
  {
   "cell_type": "code",
   "execution_count": 92,
   "metadata": {
    "collapsed": true,
    "scrolled": true
   },
   "outputs": [],
   "source": [
    "# Examine the results, then determine element that contains sought info\n",
    "# print(soup.prettify())"
   ]
  },
  {
   "cell_type": "code",
   "execution_count": 93,
   "metadata": {
    "collapsed": true,
    "scrolled": true
   },
   "outputs": [],
   "source": [
    "indeed_data={}\n",
    "title=[]\n",
    "company=[]\n",
    "city=[]\n",
    "state=[]\n",
    "url=[]\n",
    "description=[]"
   ]
  },
  {
   "cell_type": "code",
   "execution_count": 94,
   "metadata": {
    "collapsed": true
   },
   "outputs": [],
   "source": [
    "results = soup.find_all(\"div\", class_=\"row result clickcard\")\n",
    "for i in range(len(results)):\n",
    "    title.append(results[i].find('a', class_=\"turnstileLink\").text)\n",
    "    url.append(f'https://www.indeed.com{results[i].a[\"href\"]}')\n",
    "    \n",
    "    company_name = results[i].find(\"span\", class_=\"company\").text.split(\"\\n\")\n",
    "    \n",
    "    for row in company_name:\n",
    "        if row != \" \":\n",
    "            name = row\n",
    "    \n",
    "    company.append(name.lstrip())\n",
    "    a,b = results[i].find(\"span\", class_=\"location\").text.split(\",\")\n",
    "    city.append(a)\n",
    "    state.append(b[1:3])\n",
    "\n",
    "\n",
    "results = soup.find_all(\"div\", class_=\"lastRow row result clickcard\")\n",
    "for i in range(len(results)):\n",
    "    title.append(results[i].find('a', class_=\"turnstileLink\").text)\n",
    "    url.append(f'https://www.indeed.com{results[i].a[\"href\"]}')\n",
    "    \n",
    "    company_name = results[i].find(\"span\", class_=\"company\").text.split(\"\\n\")\n",
    "    \n",
    "    for row in company_name:\n",
    "        if row != \" \":\n",
    "            name = row\n",
    "    \n",
    "    company.append(name.lstrip())\n",
    "    try:\n",
    "        a,b = results[i].find(\"span\", class_=\"location\").text.split(\",\")\n",
    "        city.append(a)\n",
    "        state.append(b[1:3])\n",
    "    except:\n",
    "        city.append(\"San Jose\")\n",
    "        state.append(\"CA\")\n",
    "    \n",
    "results = soup.find_all(\"div\", class_=\"row sjlast result clickcard\")\n",
    "for i in range(len(results)):\n",
    "    title.append(results[i].find('a', class_=\"turnstileLink\").text)\n",
    "    url.append(f'https://www.indeed.com{results[i].a[\"href\"]}')\n",
    "    \n",
    "    company_name = results[i].find(\"span\", class_=\"company\").text.split(\"\\n\")\n",
    "    \n",
    "    for row in company_name:\n",
    "        if row != \" \":\n",
    "            name = row\n",
    "    \n",
    "    company.append(name.lstrip())\n",
    "    try:\n",
    "        a,b = results[i].find(\"span\", class_=\"location\").text.split(\",\")\n",
    "        city.append(a)\n",
    "        state.append(b[1:3])\n",
    "    except:\n",
    "        city.append(\"San Jose\")\n",
    "        state.append(\"CA\")    "
   ]
  },
  {
   "cell_type": "code",
   "execution_count": 95,
   "metadata": {},
   "outputs": [
    {
     "name": "stdout",
     "output_type": "stream",
     "text": [
      "https://www.indeed.com/pagead/clk?mo=r&ad=-6NYlbfkN0DhVAxkc_TxySVbUOs6bxWYWOfhmDTNcVTjFFBAY1FXZ_jbp8Q_DSbxEHI3oKBhlFyeWlu68uGMYtAI554qXEkHhqxMhyFhvvRor6-Zhil3TerMpZaO_nSbo4rw9Je3JC9zQoK76N5Vmm6X9wKdND-JOGYtKUtn0gMjCVSqALLR70rO3g4VSEUAEwsRtr8lHHZt8aiwYg7zMtBGbqzlBB_wv13qf7CO-VIF7FoOAR6LRpZ4GPruU-vpvKlxd8kaPwfChx3O212rT-0H43jlBMiowwtCSY7Q-uAvTi8lPoViVHUbjlDwjrNJkgR8zYsnmxkUCTkywj05v204sY__9YaL9g3D9Nwq5U-GwJiFs8DLVYKuf_jrP1Njl1EmH55ePYYDsvDHfZY4mRb-s4TPKQtH8afJ2r1s5gPbDqmEtvfpaLf9Bxfecez-gUMcbCWOWGC8gvk0ZwyMm3dG1mIGpIayHHfcXFpHjTDz09GL60KFhw==&vjs=3&p=3&sk=&fvj=0\n"
     ]
    }
   ],
   "source": [
    "executable_path = {'executable_path': 'chromedriver.exe'}\n",
    "browser3 = Browser('chrome', **executable_path, headless=True)\n",
    "\n",
    "for link in url:\n",
    "    job_desc_url = link \n",
    "    browser3.visit(job_desc_url)\n",
    "    html3 = browser3.html\n",
    "    soup3 = BeautifulSoup(html3, 'html.parser')\n",
    "    try:\n",
    "        job_desc = soup3.find(\"span\",id=\"job_summary\")\n",
    "        description.append(job_desc.text)\n",
    "    except:\n",
    "        print(job_desc_url)\n",
    "        job_desc = soup3.find(\"body\")\n",
    "        description.append(f\"'{job_desc}'\")\n"
   ]
  },
  {
   "cell_type": "code",
   "execution_count": 110,
   "metadata": {
    "scrolled": true
   },
   "outputs": [
    {
     "name": "stdout",
     "output_type": "stream",
     "text": [
      "Len of URL 55\n",
      "Len of company 55\n",
      "Len of title 55\n",
      "Len of state 55\n",
      "Len of city 55\n",
      "Len of description 55\n"
     ]
    }
   ],
   "source": [
    "print(f\"Len of URL {len(url)}\")\n",
    "print(f\"Len of company {len(company)}\")\n",
    "print(f\"Len of title {len(title)}\")\n",
    "print(f\"Len of state {len(state)}\")\n",
    "print(f\"Len of city {len(city)}\")\n",
    "print(f\"Len of description {len(description)}\")\n",
    "\n",
    "indeed_db = []\n",
    "for i in range(len(url)):\n",
    "        indeed_dict = {}\n",
    "        indeed_dict[\"title\"] = title[i]\n",
    "        indeed_dict[\"company\"] = company[i]\n",
    "        indeed_dict[\"city\"] = city[i]\n",
    "        indeed_dict[\"state\"] = state[i]\n",
    "        indeed_dict[\"url\"] = url[i]\n",
    "        indeed_dict[\"description\"] = description[i]\n",
    "        indeed_db.append(indeed_dict)"
   ]
  },
  {
   "cell_type": "code",
   "execution_count": 97,
   "metadata": {
    "collapsed": true,
    "scrolled": true
   },
   "outputs": [],
   "source": [
    "# job_desc_url = url[0] \n",
    "# browser3.visit(job_desc_url)\n",
    "# html3 = browser3.html\n",
    "# soup3 = BeautifulSoup(html3, 'html.parser')\n",
    "# try:\n",
    "#     job_desc = soup3.find(\"span\",id=\"job_summary\")\n",
    "#     print(job_desc.text)\n",
    "# except:\n",
    "#     print(job_desc_url)\n",
    "#     job_desc = soup3.find(\"body\")\n",
    "#     print(job_desc)"
   ]
  },
  {
   "cell_type": "code",
   "execution_count": 98,
   "metadata": {},
   "outputs": [
    {
     "data": {
      "text/plain": [
       "'2018-06-14 18:58:10.634406'"
      ]
     },
     "execution_count": 98,
     "metadata": {},
     "output_type": "execute_result"
    }
   ],
   "source": [
    "import datetime\n",
    "str(datetime.datetime.now())"
   ]
  },
  {
   "cell_type": "code",
   "execution_count": 99,
   "metadata": {},
   "outputs": [
    {
     "name": "stdout",
     "output_type": "stream",
     "text": [
      "windows\n"
     ]
    }
   ],
   "source": [
    "import platform\n",
    "a = platform.platform()\n",
    "if a[0:4] == \"Wind\":\n",
    "    print(\"windows\")\n",
    "else:\n",
    "    print(a[0:4])"
   ]
  },
  {
   "cell_type": "code",
   "execution_count": 100,
   "metadata": {},
   "outputs": [
    {
     "data": {
      "text/plain": [
       "{'city': 'Sunnyvale',\n",
       " 'company': 'TARGET',\n",
       " 'state': 'CA',\n",
       " 'title': 'Lead Data Scientist - Machine Learning',\n",
       " 'url': 'https://www.indeed.com/pagead/clk?mo=r&ad=-6NYlbfkN0Bw1nCGA-im3c4lgntb'}"
      ]
     },
     "execution_count": 100,
     "metadata": {},
     "output_type": "execute_result"
    }
   ],
   "source": [
    "indeed = [\n",
    "{\n",
    "\"title\":\"Lead Data Scientist - Machine Learning\",\n",
    "\"company\":\"TARGET\",\n",
    "\"city\":\"Sunnyvale\",\n",
    "\"state\":\"CA\",\n",
    "\"url\":\"https://www.indeed.com/pagead/clk?mo=r&ad=-6NYlbfkN0Bw1nCGA-im3c4lgntb\",\n",
    "},\n",
    "{\"title\":\"Data Scientist\",\n",
    "\"company\":\"Ebay\",\n",
    "\"city\":\"San Jose\",\n",
    "\"state\":\"CA\",\n",
    "\"url\":\"https://www.indeed.com/pagead/clk?mo=r&ad=-6NYlbfkN0Bw1nCGA-im3c4lgntb\"\n",
    "},\n",
    "{\"title\":\"Data Engineer\",\n",
    "\"company\":\"EBay\",\n",
    "\"city\":\"Sunnyvale\",\n",
    "\"state\":\"CA\",\n",
    "\"url\":\"https://www.indeed.com/pagead/clk?mo=r&ad=-6NYlbfkN0Bw1nCGA-im3c4lgntb\"\n",
    "}\n",
    "]\n",
    "\n",
    "indeed[0]"
   ]
  },
  {
   "cell_type": "code",
   "execution_count": 101,
   "metadata": {},
   "outputs": [
    {
     "data": {
      "text/plain": [
       "{'city': 'Sunnyvale',\n",
       " 'company': 'TARGET',\n",
       " 'state': 'CA',\n",
       " 'title': 'Lead Data Scientist - Machine Learning',\n",
       " 'url': 'https://www.indeed.com/pagead/clk?mo=r&ad=-6NYlbfkN0Bw1nCGA-im3c4lgntb'}"
      ]
     },
     "execution_count": 101,
     "metadata": {},
     "output_type": "execute_result"
    }
   ],
   "source": [
    "glassdoor = [\n",
    "{\n",
    "\"title\":\"Lead Data Scientist - Machine Learning\",\n",
    "\"company\":\"TARGET\",\n",
    "\"city\":\"Sunnyvale\",\n",
    "\"state\":\"CA\",\n",
    "\"url\":\"https://www.indeed.com/pagead/clk?mo=r&ad=-6NYlbfkN0Bw1nCGA-im3c4lgntb\",\n",
    "},\n",
    "{\"title\":\"Engineer\",\n",
    "\"company\":\"Applied\",\n",
    "\"city\":\"Santa Clara\",\n",
    "\"state\":\"CA\",\n",
    "\"url\":\"https://www.indeed.com/pagead/clk?mo=r&ad=-6NYlbfkN0Bw1nCGA-im3c4lgntb\"\n",
    "},\n",
    "{\"title\":\"Data Engineer\",\n",
    "\"company\":\"EBay\",\n",
    "\"city\":\"Sunnyvale\",\n",
    "\"state\":\"CA\",\n",
    "\"url\":\"https://www.indeed.com/pagead/clk?mo=r&ad=-6NYlbfkN0Bw1nCGA-im3c4lgntb\"\n",
    "}\n",
    "]\n",
    "\n",
    "glassdoor[0]"
   ]
  },
  {
   "cell_type": "code",
   "execution_count": 102,
   "metadata": {
    "collapsed": true
   },
   "outputs": [],
   "source": [
    "import pandas as pd\n",
    "df1 = pd.DataFrame.from_dict(glassdoor)\n",
    "df1[\"city\"]=df1[\"city\"].str.upper()\n",
    "df1[\"state\"]=df1[\"state\"].str.upper()\n",
    "df1[\"company\"]=df1[\"company\"].str.upper()\n",
    "df1[\"title\"]=df1[\"title\"].str.upper()\n",
    "\n",
    "df2 = pd.DataFrame.from_dict(indeed)\n",
    "df2[\"city\"]=df1[\"city\"].str.upper()\n",
    "df2[\"state\"]=df1[\"state\"].str.upper()\n",
    "df2[\"company\"]=df1[\"company\"].str.upper()\n",
    "df2[\"title\"]=df1[\"title\"].str.upper()"
   ]
  },
  {
   "cell_type": "code",
   "execution_count": 103,
   "metadata": {},
   "outputs": [
    {
     "data": {
      "text/html": [
       "<div>\n",
       "<style>\n",
       "    .dataframe thead tr:only-child th {\n",
       "        text-align: right;\n",
       "    }\n",
       "\n",
       "    .dataframe thead th {\n",
       "        text-align: left;\n",
       "    }\n",
       "\n",
       "    .dataframe tbody tr th {\n",
       "        vertical-align: top;\n",
       "    }\n",
       "</style>\n",
       "<table border=\"1\" class=\"dataframe\">\n",
       "  <thead>\n",
       "    <tr style=\"text-align: right;\">\n",
       "      <th></th>\n",
       "      <th>city</th>\n",
       "      <th>company</th>\n",
       "      <th>state</th>\n",
       "      <th>title</th>\n",
       "      <th>url</th>\n",
       "    </tr>\n",
       "  </thead>\n",
       "  <tbody>\n",
       "    <tr>\n",
       "      <th>0</th>\n",
       "      <td>SUNNYVALE</td>\n",
       "      <td>TARGET</td>\n",
       "      <td>CA</td>\n",
       "      <td>LEAD DATA SCIENTIST - MACHINE LEARNING</td>\n",
       "      <td>https://www.indeed.com/pagead/clk?mo=r&amp;ad=-6NY...</td>\n",
       "    </tr>\n",
       "    <tr>\n",
       "      <th>1</th>\n",
       "      <td>SANTA CLARA</td>\n",
       "      <td>APPLIED</td>\n",
       "      <td>CA</td>\n",
       "      <td>ENGINEER</td>\n",
       "      <td>https://www.indeed.com/pagead/clk?mo=r&amp;ad=-6NY...</td>\n",
       "    </tr>\n",
       "    <tr>\n",
       "      <th>2</th>\n",
       "      <td>SUNNYVALE</td>\n",
       "      <td>EBAY</td>\n",
       "      <td>CA</td>\n",
       "      <td>DATA ENGINEER</td>\n",
       "      <td>https://www.indeed.com/pagead/clk?mo=r&amp;ad=-6NY...</td>\n",
       "    </tr>\n",
       "  </tbody>\n",
       "</table>\n",
       "</div>"
      ],
      "text/plain": [
       "          city  company state                                   title  \\\n",
       "0    SUNNYVALE   TARGET    CA  LEAD DATA SCIENTIST - MACHINE LEARNING   \n",
       "1  SANTA CLARA  APPLIED    CA                                ENGINEER   \n",
       "2    SUNNYVALE     EBAY    CA                           DATA ENGINEER   \n",
       "\n",
       "                                                 url  \n",
       "0  https://www.indeed.com/pagead/clk?mo=r&ad=-6NY...  \n",
       "1  https://www.indeed.com/pagead/clk?mo=r&ad=-6NY...  \n",
       "2  https://www.indeed.com/pagead/clk?mo=r&ad=-6NY...  "
      ]
     },
     "execution_count": 103,
     "metadata": {},
     "output_type": "execute_result"
    }
   ],
   "source": [
    "df1"
   ]
  },
  {
   "cell_type": "code",
   "execution_count": 104,
   "metadata": {},
   "outputs": [
    {
     "data": {
      "text/html": [
       "<div>\n",
       "<style>\n",
       "    .dataframe thead tr:only-child th {\n",
       "        text-align: right;\n",
       "    }\n",
       "\n",
       "    .dataframe thead th {\n",
       "        text-align: left;\n",
       "    }\n",
       "\n",
       "    .dataframe tbody tr th {\n",
       "        vertical-align: top;\n",
       "    }\n",
       "</style>\n",
       "<table border=\"1\" class=\"dataframe\">\n",
       "  <thead>\n",
       "    <tr style=\"text-align: right;\">\n",
       "      <th></th>\n",
       "      <th>city</th>\n",
       "      <th>company</th>\n",
       "      <th>state</th>\n",
       "      <th>title</th>\n",
       "      <th>url</th>\n",
       "    </tr>\n",
       "  </thead>\n",
       "  <tbody>\n",
       "    <tr>\n",
       "      <th>0</th>\n",
       "      <td>SUNNYVALE</td>\n",
       "      <td>TARGET</td>\n",
       "      <td>CA</td>\n",
       "      <td>LEAD DATA SCIENTIST - MACHINE LEARNING</td>\n",
       "      <td>https://www.indeed.com/pagead/clk?mo=r&amp;ad=-6NY...</td>\n",
       "    </tr>\n",
       "    <tr>\n",
       "      <th>1</th>\n",
       "      <td>SANTA CLARA</td>\n",
       "      <td>APPLIED</td>\n",
       "      <td>CA</td>\n",
       "      <td>ENGINEER</td>\n",
       "      <td>https://www.indeed.com/pagead/clk?mo=r&amp;ad=-6NY...</td>\n",
       "    </tr>\n",
       "    <tr>\n",
       "      <th>2</th>\n",
       "      <td>SUNNYVALE</td>\n",
       "      <td>EBAY</td>\n",
       "      <td>CA</td>\n",
       "      <td>DATA ENGINEER</td>\n",
       "      <td>https://www.indeed.com/pagead/clk?mo=r&amp;ad=-6NY...</td>\n",
       "    </tr>\n",
       "  </tbody>\n",
       "</table>\n",
       "</div>"
      ],
      "text/plain": [
       "          city  company state                                   title  \\\n",
       "0    SUNNYVALE   TARGET    CA  LEAD DATA SCIENTIST - MACHINE LEARNING   \n",
       "1  SANTA CLARA  APPLIED    CA                                ENGINEER   \n",
       "2    SUNNYVALE     EBAY    CA                           DATA ENGINEER   \n",
       "\n",
       "                                                 url  \n",
       "0  https://www.indeed.com/pagead/clk?mo=r&ad=-6NY...  \n",
       "1  https://www.indeed.com/pagead/clk?mo=r&ad=-6NY...  \n",
       "2  https://www.indeed.com/pagead/clk?mo=r&ad=-6NY...  "
      ]
     },
     "execution_count": 104,
     "metadata": {},
     "output_type": "execute_result"
    }
   ],
   "source": [
    "df2"
   ]
  },
  {
   "cell_type": "code",
   "execution_count": 105,
   "metadata": {},
   "outputs": [
    {
     "data": {
      "text/html": [
       "<div>\n",
       "<style>\n",
       "    .dataframe thead tr:only-child th {\n",
       "        text-align: right;\n",
       "    }\n",
       "\n",
       "    .dataframe thead th {\n",
       "        text-align: left;\n",
       "    }\n",
       "\n",
       "    .dataframe tbody tr th {\n",
       "        vertical-align: top;\n",
       "    }\n",
       "</style>\n",
       "<table border=\"1\" class=\"dataframe\">\n",
       "  <thead>\n",
       "    <tr style=\"text-align: right;\">\n",
       "      <th></th>\n",
       "      <th>city</th>\n",
       "      <th>company</th>\n",
       "      <th>state</th>\n",
       "      <th>title</th>\n",
       "      <th>url</th>\n",
       "    </tr>\n",
       "  </thead>\n",
       "  <tbody>\n",
       "    <tr>\n",
       "      <th>0</th>\n",
       "      <td>SUNNYVALE</td>\n",
       "      <td>TARGET</td>\n",
       "      <td>CA</td>\n",
       "      <td>LEAD DATA SCIENTIST - MACHINE LEARNING</td>\n",
       "      <td>https://www.indeed.com/pagead/clk?mo=r&amp;ad=-6NY...</td>\n",
       "    </tr>\n",
       "    <tr>\n",
       "      <th>1</th>\n",
       "      <td>SANTA CLARA</td>\n",
       "      <td>APPLIED</td>\n",
       "      <td>CA</td>\n",
       "      <td>ENGINEER</td>\n",
       "      <td>https://www.indeed.com/pagead/clk?mo=r&amp;ad=-6NY...</td>\n",
       "    </tr>\n",
       "    <tr>\n",
       "      <th>2</th>\n",
       "      <td>SUNNYVALE</td>\n",
       "      <td>EBAY</td>\n",
       "      <td>CA</td>\n",
       "      <td>DATA ENGINEER</td>\n",
       "      <td>https://www.indeed.com/pagead/clk?mo=r&amp;ad=-6NY...</td>\n",
       "    </tr>\n",
       "    <tr>\n",
       "      <th>0</th>\n",
       "      <td>SUNNYVALE</td>\n",
       "      <td>TARGET</td>\n",
       "      <td>CA</td>\n",
       "      <td>LEAD DATA SCIENTIST - MACHINE LEARNING</td>\n",
       "      <td>https://www.indeed.com/pagead/clk?mo=r&amp;ad=-6NY...</td>\n",
       "    </tr>\n",
       "    <tr>\n",
       "      <th>1</th>\n",
       "      <td>SANTA CLARA</td>\n",
       "      <td>APPLIED</td>\n",
       "      <td>CA</td>\n",
       "      <td>ENGINEER</td>\n",
       "      <td>https://www.indeed.com/pagead/clk?mo=r&amp;ad=-6NY...</td>\n",
       "    </tr>\n",
       "    <tr>\n",
       "      <th>2</th>\n",
       "      <td>SUNNYVALE</td>\n",
       "      <td>EBAY</td>\n",
       "      <td>CA</td>\n",
       "      <td>DATA ENGINEER</td>\n",
       "      <td>https://www.indeed.com/pagead/clk?mo=r&amp;ad=-6NY...</td>\n",
       "    </tr>\n",
       "  </tbody>\n",
       "</table>\n",
       "</div>"
      ],
      "text/plain": [
       "          city  company state                                   title  \\\n",
       "0    SUNNYVALE   TARGET    CA  LEAD DATA SCIENTIST - MACHINE LEARNING   \n",
       "1  SANTA CLARA  APPLIED    CA                                ENGINEER   \n",
       "2    SUNNYVALE     EBAY    CA                           DATA ENGINEER   \n",
       "0    SUNNYVALE   TARGET    CA  LEAD DATA SCIENTIST - MACHINE LEARNING   \n",
       "1  SANTA CLARA  APPLIED    CA                                ENGINEER   \n",
       "2    SUNNYVALE     EBAY    CA                           DATA ENGINEER   \n",
       "\n",
       "                                                 url  \n",
       "0  https://www.indeed.com/pagead/clk?mo=r&ad=-6NY...  \n",
       "1  https://www.indeed.com/pagead/clk?mo=r&ad=-6NY...  \n",
       "2  https://www.indeed.com/pagead/clk?mo=r&ad=-6NY...  \n",
       "0  https://www.indeed.com/pagead/clk?mo=r&ad=-6NY...  \n",
       "1  https://www.indeed.com/pagead/clk?mo=r&ad=-6NY...  \n",
       "2  https://www.indeed.com/pagead/clk?mo=r&ad=-6NY...  "
      ]
     },
     "execution_count": 105,
     "metadata": {},
     "output_type": "execute_result"
    }
   ],
   "source": [
    "result = pd.concat([df1,df2])\n",
    "result"
   ]
  },
  {
   "cell_type": "code",
   "execution_count": 106,
   "metadata": {
    "collapsed": true
   },
   "outputs": [],
   "source": [
    "result.drop_duplicates(subset=['city', 'company', 'title'], keep=\"last\",inplace=True)"
   ]
  },
  {
   "cell_type": "code",
   "execution_count": 107,
   "metadata": {},
   "outputs": [
    {
     "data": {
      "text/html": [
       "<div>\n",
       "<style>\n",
       "    .dataframe thead tr:only-child th {\n",
       "        text-align: right;\n",
       "    }\n",
       "\n",
       "    .dataframe thead th {\n",
       "        text-align: left;\n",
       "    }\n",
       "\n",
       "    .dataframe tbody tr th {\n",
       "        vertical-align: top;\n",
       "    }\n",
       "</style>\n",
       "<table border=\"1\" class=\"dataframe\">\n",
       "  <thead>\n",
       "    <tr style=\"text-align: right;\">\n",
       "      <th></th>\n",
       "      <th>city</th>\n",
       "      <th>company</th>\n",
       "      <th>state</th>\n",
       "      <th>title</th>\n",
       "      <th>url</th>\n",
       "    </tr>\n",
       "  </thead>\n",
       "  <tbody>\n",
       "    <tr>\n",
       "      <th>0</th>\n",
       "      <td>SUNNYVALE</td>\n",
       "      <td>TARGET</td>\n",
       "      <td>CA</td>\n",
       "      <td>LEAD DATA SCIENTIST - MACHINE LEARNING</td>\n",
       "      <td>https://www.indeed.com/pagead/clk?mo=r&amp;ad=-6NY...</td>\n",
       "    </tr>\n",
       "    <tr>\n",
       "      <th>1</th>\n",
       "      <td>SANTA CLARA</td>\n",
       "      <td>APPLIED</td>\n",
       "      <td>CA</td>\n",
       "      <td>ENGINEER</td>\n",
       "      <td>https://www.indeed.com/pagead/clk?mo=r&amp;ad=-6NY...</td>\n",
       "    </tr>\n",
       "    <tr>\n",
       "      <th>2</th>\n",
       "      <td>SUNNYVALE</td>\n",
       "      <td>EBAY</td>\n",
       "      <td>CA</td>\n",
       "      <td>DATA ENGINEER</td>\n",
       "      <td>https://www.indeed.com/pagead/clk?mo=r&amp;ad=-6NY...</td>\n",
       "    </tr>\n",
       "  </tbody>\n",
       "</table>\n",
       "</div>"
      ],
      "text/plain": [
       "          city  company state                                   title  \\\n",
       "0    SUNNYVALE   TARGET    CA  LEAD DATA SCIENTIST - MACHINE LEARNING   \n",
       "1  SANTA CLARA  APPLIED    CA                                ENGINEER   \n",
       "2    SUNNYVALE     EBAY    CA                           DATA ENGINEER   \n",
       "\n",
       "                                                 url  \n",
       "0  https://www.indeed.com/pagead/clk?mo=r&ad=-6NY...  \n",
       "1  https://www.indeed.com/pagead/clk?mo=r&ad=-6NY...  \n",
       "2  https://www.indeed.com/pagead/clk?mo=r&ad=-6NY...  "
      ]
     },
     "execution_count": 107,
     "metadata": {},
     "output_type": "execute_result"
    }
   ],
   "source": [
    "result"
   ]
  },
  {
   "cell_type": "code",
   "execution_count": 108,
   "metadata": {},
   "outputs": [
    {
     "data": {
      "text/plain": [
       "[{'city': 'SUNNYVALE',\n",
       "  'company': 'TARGET',\n",
       "  'state': 'CA',\n",
       "  'title': 'LEAD DATA SCIENTIST - MACHINE LEARNING',\n",
       "  'url': 'https://www.indeed.com/pagead/clk?mo=r&ad=-6NYlbfkN0Bw1nCGA-im3c4lgntb'},\n",
       " {'city': 'SANTA CLARA',\n",
       "  'company': 'APPLIED',\n",
       "  'state': 'CA',\n",
       "  'title': 'ENGINEER',\n",
       "  'url': 'https://www.indeed.com/pagead/clk?mo=r&ad=-6NYlbfkN0Bw1nCGA-im3c4lgntb'},\n",
       " {'city': 'SUNNYVALE',\n",
       "  'company': 'EBAY',\n",
       "  'state': 'CA',\n",
       "  'title': 'DATA ENGINEER',\n",
       "  'url': 'https://www.indeed.com/pagead/clk?mo=r&ad=-6NYlbfkN0Bw1nCGA-im3c4lgntb'}]"
      ]
     },
     "execution_count": 108,
     "metadata": {},
     "output_type": "execute_result"
    }
   ],
   "source": [
    "result.to_dict('records')"
   ]
  },
  {
   "cell_type": "code",
   "execution_count": 121,
   "metadata": {},
   "outputs": [],
   "source": [
    "t_range = pd.date_range(\"00:00\", \"23:50\", freq=\"60min\").time"
   ]
  }
 ],
 "metadata": {
  "kernelspec": {
   "display_name": "Python [conda env:pythondata]",
   "language": "python",
   "name": "conda-env-pythondata-py"
  },
  "language_info": {
   "codemirror_mode": {
    "name": "ipython",
    "version": 3
   },
   "file_extension": ".py",
   "mimetype": "text/x-python",
   "name": "python",
   "nbconvert_exporter": "python",
   "pygments_lexer": "ipython3",
   "version": "3.6.3"
  }
 },
 "nbformat": 4,
 "nbformat_minor": 2
}
