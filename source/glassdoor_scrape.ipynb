{
 "cells": [
  {
   "cell_type": "code",
   "execution_count": 170,
   "metadata": {
    "collapsed": true
   },
   "outputs": [],
   "source": [
    "# Dependencies\n",
    "from bs4 import BeautifulSoup\n",
    "from splinter import Browser\n",
    "import pandas as pd\n",
    "import requests"
   ]
  },
  {
   "cell_type": "code",
   "execution_count": 171,
   "metadata": {},
   "outputs": [
    {
     "data": {
      "text/plain": [
       "(95050, 'Data Scientist')"
      ]
     },
     "execution_count": 171,
     "metadata": {},
     "output_type": "execute_result"
    }
   ],
   "source": [
    "meta_input = \"../data/input_meta.csv\"\n",
    "df=pd.read_csv(meta_input,low_memory=False)\n",
    "search_zip_code = df[\"zip\"][0]\n",
    "search_job_title = df[\"job_title\"][0]\n",
    "\n",
    "search_zip_code, search_job_title"
   ]
  },
  {
   "cell_type": "code",
   "execution_count": 172,
   "metadata": {
    "collapsed": true
   },
   "outputs": [],
   "source": [
    "glassdoor_url=\"https://www.glassdoor.com/index.htm\""
   ]
  },
  {
   "cell_type": "code",
   "execution_count": 173,
   "metadata": {
    "collapsed": true
   },
   "outputs": [],
   "source": [
    "executable_path = {'executable_path': 'chromedriver.exe'}\n",
    "browser1 = Browser('chrome', **executable_path, headless=False)"
   ]
  },
  {
   "cell_type": "code",
   "execution_count": 174,
   "metadata": {},
   "outputs": [],
   "source": [
    "browser1.visit(glassdoor_url)\n",
    "browser1.fill('sc.keyword',search_job_title)\n",
    "browser1.find_by_css('.loc').fill(str(search_zip_code))\n",
    "browser1.find_by_css('.gd-btn-mkt').first.click()\n"
   ]
  },
  {
   "cell_type": "code",
   "execution_count": 175,
   "metadata": {
    "collapsed": true
   },
   "outputs": [],
   "source": [
    "#get the source code of the browser\n",
    "html1 = browser1.html\n",
    "\n",
    "# Create BeautifulSoup object; parse with 'html.parser'\n",
    "soup = BeautifulSoup(html1, 'html.parser')"
   ]
  },
  {
   "cell_type": "code",
   "execution_count": 176,
   "metadata": {
    "collapsed": true,
    "scrolled": true
   },
   "outputs": [],
   "source": [
    "# Examine the results, then determine element that contains sought info\n",
    "# print(soup.prettify())"
   ]
  },
  {
   "cell_type": "code",
   "execution_count": 177,
   "metadata": {
    "collapsed": true,
    "scrolled": true
   },
   "outputs": [],
   "source": [
    "glass_door_data={}\n",
    "title=[]\n",
    "company=[]\n",
    "city=[]\n",
    "state=[]\n",
    "url=[]\n",
    "description=[]"
   ]
  },
  {
   "cell_type": "code",
   "execution_count": 178,
   "metadata": {
    "collapsed": true
   },
   "outputs": [],
   "source": [
    "results = soup.find_all(\"li\", class_=\"jl\")\n",
    "for i in range(len(results)):\n",
    "    link = results[i].find('div', class_=\"flexbox\").find('a', class_=\"jobLink\")[\"href\"]\n",
    "    title_text = results[i].find('div', class_=\"flexbox\").find('a', class_=\"jobLink\").text \n",
    "    \n",
    "    title.append(title_text)\n",
    "    url.append(f'https://www.glassdoor.com{link}')\n",
    "    \n",
    "    company.append(results[i].find('div', class_=\"flexbox empLoc\").find('div').text.split(' – ')[0].lstrip())\n",
    "    \n",
    "    a,b = results[i].find(\"span\", class_=\"subtle loc\").text.split(\",\")\n",
    "    city.append(a)\n",
    "    state.append(b[1:3])  "
   ]
  },
  {
   "cell_type": "code",
   "execution_count": 179,
   "metadata": {},
   "outputs": [
    {
     "name": "stdout",
     "output_type": "stream",
     "text": [
      "https://www.glassdoor.com/partner/jobListing.htm?pos=108&ao=199837&s=58&guid=0000016409de6e828a8eb47df47bb528&src=GD_JOB_AD&t=SR&extid=1&exst=OL&ist=&ast=OL&vt=w&slr=true&rtp=0&cs=1_767e5e46&cb=1529173930079&jobListingId=2802530910\n"
     ]
    }
   ],
   "source": [
    "executable_path = {'executable_path': 'chromedriver.exe'}\n",
    "browser3 = Browser('chrome', **executable_path, headless=True)\n",
    "\n",
    "for link in url:\n",
    "    job_desc_url = link \n",
    "    browser3.visit(job_desc_url)\n",
    "    html3 = browser3.html\n",
    "    soup3 = BeautifulSoup(html3, 'html.parser')\n",
    "    \n",
    "    try:\n",
    "        job_desc = soup3.find(\"div\",class_=\"jobDescriptionContent desc module pad noMargBot collapsed noPadBot\")\n",
    "        description.append(job_desc.text)\n",
    "    except:\n",
    "        print(job_desc_url)\n",
    "        job_desc = soup3.find(\"body\")\n",
    "        description.append(f\"'{job_desc}'\")\n"
   ]
  },
  {
   "cell_type": "code",
   "execution_count": 180,
   "metadata": {
    "scrolled": true
   },
   "outputs": [
    {
     "name": "stdout",
     "output_type": "stream",
     "text": [
      "Len of URL 30\n",
      "Len of company 30\n",
      "Len of title 30\n",
      "Len of state 30\n",
      "Len of city 30\n",
      "Len of description 30\n"
     ]
    }
   ],
   "source": [
    "print(f\"Len of URL {len(url)}\")\n",
    "print(f\"Len of company {len(company)}\")\n",
    "print(f\"Len of title {len(title)}\")\n",
    "print(f\"Len of state {len(state)}\")\n",
    "print(f\"Len of city {len(city)}\")\n",
    "print(f\"Len of description {len(description)}\")\n",
    "\n",
    "glassdoor_db = []\n",
    "for i in range(len(url)):\n",
    "        glassdoor_dict = {}\n",
    "        glassdoor_dict[\"title\"] = title[i]\n",
    "        glassdoor_dict[\"company\"] = company[i]\n",
    "        glassdoor_dict[\"city\"] = city[i]\n",
    "        glassdoor_dict[\"state\"] = state[i]\n",
    "        glassdoor_dict[\"url\"] = url[i]\n",
    "        glassdoor_dict[\"description\"] = description[i]\n",
    "        glassdoor_db.append(glassdoor_dict)"
   ]
  },
  {
   "cell_type": "code",
   "execution_count": 181,
   "metadata": {},
   "outputs": [
    {
     "data": {
      "text/plain": [
       "{'city': 'Redwood City',\n",
       " 'company': 'Shutterfly',\n",
       " 'description': ' The Data Scientist will be responsible for designing and directing experiments and observational studies to optimize our marketing efforts. This role requires an individual with a strong ability to communicate and collaborate across functional teams, in addition to outstanding analytical and critical thinking skills. The role will have a strong focus on experimental design.  Responsibilities:  - Directly impact resource allocation decisions by designing and directing experiments and observational studies  - Partner with the marketing and business strategy teams to define and test hypotheses that answer critical business questions  - Perform deep-dive statistical analysis on large, complex, multi-dimensional datasets.  - Develop and contribute to a base of understanding that allows us to make optimal resource allocation decisions  Qualifications:  - Advanced degree (MS, Ph.D.) in quantitative fields, and 2-3 years of experience with a range of techniques, tools, and methods related to data mining and statistical analysis  - Strong ability with a statistical language such as R or SAS, and hands-on experience using a variety of analytical methods  - Experience with or strong working knowledge of experimental design concepts, regardless of industry/discipline  - Hands-on experience with SQL, working knowledge of database design  - Familiarity with internet marketing data collection methods and marketing technology, including search marketing, social marketing, and ad serving platforms  - Creative mind with strong communication and interpersonal skills; talented with simplifying abstract business issues and large amounts of data into actionable analyses; must be able to interact with diverse groups of technical and non-technical people  -Track record of contributing to successful end-to-end analytic solutions (clarifying business objectives and hypotheses, communicating project deliverables and timelines, and informing action based on findings)  - Strong desire to articulate business recommendations based on analytical workThis position is full-time and based in Redwood City, CA or Eden Prairie, Minnesota.',\n",
       " 'state': 'CA',\n",
       " 'title': 'Data Scientist',\n",
       " 'url': 'https://www.glassdoor.com/partner/jobListing.htm?pos=101&ao=206791&s=58&guid=0000016409de6e828a8eb47df47bb528&src=GD_JOB_AD&t=SR&extid=1&exst=OL&ist=&ast=OL&vt=w&slr=true&rtp=0&cs=1_600dfff4&cb=1529173930066&jobListingId=2805962881'}"
      ]
     },
     "execution_count": 181,
     "metadata": {},
     "output_type": "execute_result"
    }
   ],
   "source": [
    "glassdoor_db[0]"
   ]
  }
 ],
 "metadata": {
  "kernelspec": {
   "display_name": "Python [conda env:pythondata]",
   "language": "python",
   "name": "conda-env-pythondata-py"
  },
  "language_info": {
   "codemirror_mode": {
    "name": "ipython",
    "version": 3
   },
   "file_extension": ".py",
   "mimetype": "text/x-python",
   "name": "python",
   "nbconvert_exporter": "python",
   "pygments_lexer": "ipython3",
   "version": "3.6.3"
  }
 },
 "nbformat": 4,
 "nbformat_minor": 2
}
