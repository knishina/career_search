{
 "cells": [
  {
   "cell_type": "code",
   "execution_count": 1,
   "metadata": {
    "collapsed": true
   },
   "outputs": [],
   "source": [
    "import pymongo\n",
    "import pandas as pd\n",
    "\n",
    "conn = \"mongodb://localhost:27017\"\n",
    "client = pymongo.MongoClient(conn)\n",
    "\n",
    "db = client.career_search\n",
    "search1 = list(db.indeed_db.find())\n"
   ]
  },
  {
   "cell_type": "code",
   "execution_count": 2,
   "metadata": {
    "collapsed": true,
    "scrolled": true
   },
   "outputs": [],
   "source": [
    "descriptions = []\n",
    "for s in range(len(search1)):\n",
    "    descriptions.append((search1[s][\"description\"]).lower())"
   ]
  },
  {
   "cell_type": "code",
   "execution_count": 3,
   "metadata": {
    "collapsed": true,
    "scrolled": false
   },
   "outputs": [],
   "source": [
    "keyword = pd.read_csv(\"../data/input_keywords.csv\")\n",
    "keywords = list(keyword[\"keywords\"])\n",
    "lc_keywords = []\n",
    "for k in keywords:\n",
    "    lc_keywords.append(k.lower())"
   ]
  },
  {
   "cell_type": "code",
   "execution_count": 4,
   "metadata": {},
   "outputs": [
    {
     "name": "stdout",
     "output_type": "stream",
     "text": [
      "['6.67%', '20.0%', '0.0%', '0.0%', '26.67%', '13.33%', '26.67%', '13.33%', '20.0%', '0.0%', '6.67%', '26.67%', '26.67%', '13.33%', '26.67%', '6.67%', '13.33%', '6.67%', '26.67%', '20.0%', '6.67%', '0.0%', '20.0%', '33.33%', '20.0%', '26.67%', '13.33%', '26.67%', '6.67%', '6.67%', '6.67%', '6.67%', '6.67%', '0.0%', '6.67%', '0.0%', '26.67%', '13.33%', '26.67%', '33.33%', '6.67%', '40.0%', '0.0%', '26.67%', '13.33%', '20.0%', '13.33%', '6.67%', '13.33%', '26.67%', '13.33%', '13.33%', '6.67%', '20.0%', '13.33%']\n"
     ]
    }
   ],
   "source": [
    "percent_match = []\n",
    "for d in range(len(descriptions)):\n",
    "    counter = 0\n",
    "    for k in lc_keywords:\n",
    "        if k in descriptions[d]:\n",
    "            counter += 1\n",
    "    foo = round(((counter/(len(lc_keywords)))* 100), 2)\n",
    "    percent_match.append(f\"{foo}%\")\n",
    "print (percent_match)"
   ]
  }
 ],
 "metadata": {
  "kernelspec": {
   "display_name": "Python [conda env:pythondata]",
   "language": "python",
   "name": "conda-env-pythondata-py"
  },
  "language_info": {
   "codemirror_mode": {
    "name": "ipython",
    "version": 3
   },
   "file_extension": ".py",
   "mimetype": "text/x-python",
   "name": "python",
   "nbconvert_exporter": "python",
   "pygments_lexer": "ipython3",
   "version": "3.6.3"
  }
 },
 "nbformat": 4,
 "nbformat_minor": 2
}
